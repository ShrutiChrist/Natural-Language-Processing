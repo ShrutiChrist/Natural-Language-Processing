{
  "nbformat": 4,
  "nbformat_minor": 0,
  "metadata": {
    "colab": {
      "provenance": [],
      "authorship_tag": "ABX9TyOeRctDvMr5yfAXYp+bNoYj",
      "include_colab_link": true
    },
    "kernelspec": {
      "name": "python3",
      "display_name": "Python 3"
    },
    "language_info": {
      "name": "python"
    }
  },
  "cells": [
    {
      "cell_type": "markdown",
      "metadata": {
        "id": "view-in-github",
        "colab_type": "text"
      },
      "source": [
        "<a href=\"https://colab.research.google.com/github/ShrutiChrist/Natural-Language-Processing/blob/main/NLP_Lab4_2348545.ipynb\" target=\"_parent\"><img src=\"https://colab.research.google.com/assets/colab-badge.svg\" alt=\"Open In Colab\"/></a>"
      ]
    },
    {
      "cell_type": "code",
      "execution_count": 20,
      "metadata": {
        "colab": {
          "base_uri": "https://localhost:8080/"
        },
        "id": "UthAcuT9KZjF",
        "outputId": "d46bec74-5dc3-406f-ecfd-5a1a83553b26"
      },
      "outputs": [
        {
          "output_type": "stream",
          "name": "stderr",
          "text": [
            "[nltk_data] Downloading package wordnet to /root/nltk_data...\n",
            "[nltk_data]   Package wordnet is already up-to-date!\n"
          ]
        },
        {
          "output_type": "execute_result",
          "data": {
            "text/plain": [
              "True"
            ]
          },
          "metadata": {},
          "execution_count": 20
        }
      ],
      "source": [
        "# Import necessary libraries\n",
        "from nltk.corpus import wordnet\n",
        "import nltk\n",
        "nltk.download('wordnet')\n"
      ]
    },
    {
      "cell_type": "code",
      "source": [
        "#  Define the word for which you want to find synonyms\n",
        "word = \"fish\"\n",
        "\n",
        "# A. Find the 3rd meaning of the word in the list\n",
        "synsets = wordnet.synsets(word)\n",
        "if len(synsets) > 2:\n",
        "    third_meaning = synsets[2]\n",
        "    print(\"Third Meaning:\", third_meaning.definition())\n",
        "else:\n",
        "    print(\"The word has less than 3 meanings in WordNet.\")"
      ],
      "metadata": {
        "colab": {
          "base_uri": "https://localhost:8080/"
        },
        "id": "3vti2Pj5Mjxm",
        "outputId": "7e044d4b-0471-4320-9a9b-cf68ade69682"
      },
      "execution_count": 32,
      "outputs": [
        {
          "output_type": "stream",
          "name": "stdout",
          "text": [
            "Third Meaning: (astrology) a person who is born while the sun is in Pisces\n"
          ]
        }
      ]
    },
    {
      "cell_type": "code",
      "source": [
        "# B. Extract the nouns of the word from the synonyms list\n",
        "nouns = [lemma.name() for synset in synsets for lemma in synset.lemmas() if synset.pos() == 'n']\n",
        "print(\"Nouns:\", nouns)"
      ],
      "metadata": {
        "colab": {
          "base_uri": "https://localhost:8080/"
        },
        "id": "dM69C9kwKyZj",
        "outputId": "058f35ff-9639-4ea0-88f4-9b05871a364a"
      },
      "execution_count": 33,
      "outputs": [
        {
          "output_type": "stream",
          "name": "stdout",
          "text": [
            "Nouns: ['fish', 'fish', 'Pisces', 'Fish', 'Pisces', 'Pisces_the_Fishes', 'Fish']\n"
          ]
        }
      ]
    },
    {
      "cell_type": "code",
      "source": [
        "# C. Extract the verbs of the word from the synonyms list\n",
        "verbs = [lemma.name() for synset in synsets for lemma in synset.lemmas() if synset.pos() == 'v']\n",
        "print(\"Verbs:\", verbs)"
      ],
      "metadata": {
        "colab": {
          "base_uri": "https://localhost:8080/"
        },
        "id": "BO570ZxANL5c",
        "outputId": "209b8067-8c04-4c2f-9c95-a1f2c28e0ebd"
      },
      "execution_count": 34,
      "outputs": [
        {
          "output_type": "stream",
          "name": "stdout",
          "text": [
            "Verbs: ['fish', 'angle', 'fish']\n"
          ]
        }
      ]
    },
    {
      "cell_type": "code",
      "source": [
        "# D.Extract the adjectives of the word from the synonyms list\n",
        "adjectives = [lemma.name() for synset in synsets for lemma in synset.lemmas() if synset.pos() == 'a']\n",
        "print(\"Adjectives:\", adjectives)\n",
        "\n",
        "# E. Extract the adverbs of the word from the synonyms list\n",
        "adverbs = [lemma.name() for synset in synsets for lemma in synset.lemmas() if synset.pos() == 'r']\n",
        "print(\"Adverbs:\", adverbs)"
      ],
      "metadata": {
        "colab": {
          "base_uri": "https://localhost:8080/"
        },
        "id": "RKs1aMx2NQcq",
        "outputId": "fc84bb40-8bc1-4d19-c527-ece1a10ecfff"
      },
      "execution_count": 35,
      "outputs": [
        {
          "output_type": "stream",
          "name": "stdout",
          "text": [
            "Adjectives: []\n",
            "Adverbs: []\n"
          ]
        }
      ]
    },
    {
      "cell_type": "code",
      "source": [],
      "metadata": {
        "id": "vZhYCV2TODVY"
      },
      "execution_count": 35,
      "outputs": []
    },
    {
      "cell_type": "markdown",
      "source": [
        "The hypernyms of a word refer to its parent nodes in a hierarchical structure. In the context of WordNet, a hypernym represents a more general term or category that encompasses the meaning of the given word. For instance, the hypernyms of the word \"dog\" include \"canine\", \"domestic animal\", and \"mammal\"."
      ],
      "metadata": {
        "id": "NcPSrPcZOE0P"
      }
    },
    {
      "cell_type": "code",
      "source": [
        "# F. Extract the definition of the word\n",
        "synsets = wordnet.synsets(word)\n",
        "if synsets:\n",
        "    definition = synsets[0].definition()  # Using the first synset's definition\n",
        "    print(\"Definition:\", definition)\n",
        "else:\n",
        "    print(\"No definition found for the word in WordNet.\")\n",
        "\n",
        "# G. Find the hypernyms of the word\n",
        "hypernyms_list = []\n",
        "for synset in synsets:\n",
        "    for hypernym in synset.hypernyms():\n",
        "        hypernyms_list.append(hypernym.name().split('.')[0])\n",
        "print(\"Hypernyms:\", hypernyms_list)"
      ],
      "metadata": {
        "colab": {
          "base_uri": "https://localhost:8080/"
        },
        "id": "WeLyrZHJNgNq",
        "outputId": "15ad2d53-b4e4-4682-e0ba-1511a9731854"
      },
      "execution_count": 36,
      "outputs": [
        {
          "output_type": "stream",
          "name": "stdout",
          "text": [
            "Definition: any of various mostly cold-blooded aquatic vertebrates usually having scales and breathing through gills\n",
            "Hypernyms: ['aquatic_vertebrate', 'food', 'person', 'search', 'catch']\n"
          ]
        }
      ]
    },
    {
      "cell_type": "code",
      "source": [
        "# H. Find the hyponyms of the word\n",
        "hyponyms_list = []\n",
        "for synset in synsets:\n",
        "    for hyponym in synset.hyponyms():\n",
        "        hyponyms_list.append(hyponym.name().split('.')[0])\n",
        "print(\"Hyponyms:\", hyponyms_list)\n",
        "\n",
        "# I. Find the similarities of any two hyponyms of a word.\n",
        "if len(hyponyms_list) > 1:\n",
        "    similarity = synsets[0].path_similarity(synsets[1])\n",
        "    print(\"Similarity between hyponyms:\", similarity)\n",
        "else:\n",
        "    print(\"There are less than two hyponyms to compare.\")"
      ],
      "metadata": {
        "colab": {
          "base_uri": "https://localhost:8080/"
        },
        "id": "ZIPkDsIMNgtn",
        "outputId": "1f34d11a-a9b6-4083-c3a0-cb754077a7f8"
      },
      "execution_count": 37,
      "outputs": [
        {
          "output_type": "stream",
          "name": "stdout",
          "text": [
            "Hyponyms: ['bony_fish', 'bottom-feeder', 'bottom_lurkers', 'cartilaginous_fish', 'climbing_perch', 'fingerling', 'food_fish', 'game_fish', 'mouthbreeder', 'northern_snakehead', 'rough_fish', 'spawner', 'young_fish', 'alewife', 'anchovy', 'eel', 'haddock', 'hake', 'mullet', 'panfish', 'rock_salmon', 'salmon', 'schrod', 'shad', 'smelt', 'stockfish', 'trout', 'angle', 'brail', 'crab', 'net_fish', 'prawn', 'rail', 'scallop', 'seine', 'shark', 'shrimp', 'still-fish', 'trawl']\n",
            "Similarity between hyponyms: 0.07142857142857142\n"
          ]
        }
      ]
    }
  ]
}