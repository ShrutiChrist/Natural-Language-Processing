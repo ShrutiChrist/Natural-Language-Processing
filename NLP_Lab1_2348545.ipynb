{
  "nbformat": 4,
  "nbformat_minor": 0,
  "metadata": {
    "colab": {
      "provenance": [],
      "include_colab_link": true
    },
    "kernelspec": {
      "name": "python3",
      "display_name": "Python 3"
    },
    "language_info": {
      "name": "python"
    }
  },
  "cells": [
    {
      "cell_type": "markdown",
      "metadata": {
        "id": "view-in-github",
        "colab_type": "text"
      },
      "source": [
        "<a href=\"https://colab.research.google.com/github/ShrutiChrist/Natural-Language-Processing/blob/main/NLP_Lab1_2348545.ipynb\" target=\"_parent\"><img src=\"https://colab.research.google.com/assets/colab-badge.svg\" alt=\"Open In Colab\"/></a>"
      ]
    },
    {
      "cell_type": "code",
      "execution_count": 1,
      "metadata": {
        "colab": {
          "base_uri": "https://localhost:8080/"
        },
        "id": "uoSkmxs_SGkk",
        "outputId": "6ca1b4c4-fb10-4ffc-df41-4bba6ef694d4"
      },
      "outputs": [
        {
          "output_type": "stream",
          "name": "stderr",
          "text": [
            "[nltk_data] Downloading package punkt to /root/nltk_data...\n",
            "[nltk_data]   Unzipping tokenizers/punkt.zip.\n"
          ]
        }
      ],
      "source": [
        "import nltk\n",
        "\n",
        "# Download the 'punkt' resource\n",
        "nltk.download('punkt')\n",
        "from nltk.tokenize import word_tokenize\n",
        "\n",
        "# Input paragraph\n",
        "nature_paragraph = \"Amidst the symphony of rustling leaves and the gentle whispers of the wind, nature unfolds its enigmatic tapestry. 🍃 The verdant expanse, with its myriad hues, is a sanctuary for life's ceaseless dance. 🌿 Don't dismiss the seemingly mundane; within each blade of grass and fluttering butterfly, a story of resilience and renewal is etched. The rhythmic hum of insects orchestrates a celestial melody, punctuating the air with the essence of existence. 🦋 Nature, don't you see, is a sublime masterpiece, where even the smallest creatures play a vital role in the grand narrative. Take a moment to marvel at the intricate patterns woven by the spider's silk, a testament to craftsmanship unparalleled. 🕷️ Let's not overlook the beauty that lies in every raindrop and the ephemeral brilliance of a fleeting sunset; these fleeting moments are nature's poetry, inscribed in the language of the universe. 🌅\"\n",
        "\n",
        "\n"
      ]
    },
    {
      "cell_type": "code",
      "source": [
        "# A) Tokenize the paragraph into words\n",
        "word_tokens = word_tokenize(nature_paragraph)\n",
        "\n",
        "# Display the word tokens\n",
        "print(word_tokens)"
      ],
      "metadata": {
        "colab": {
          "base_uri": "https://localhost:8080/"
        },
        "id": "t4CdJ0EbS6SL",
        "outputId": "3eeadcf8-e659-4b14-8078-c2e9d7080b28"
      },
      "execution_count": 2,
      "outputs": [
        {
          "output_type": "stream",
          "name": "stdout",
          "text": [
            "['Amidst', 'the', 'symphony', 'of', 'rustling', 'leaves', 'and', 'the', 'gentle', 'whispers', 'of', 'the', 'wind', ',', 'nature', 'unfolds', 'its', 'enigmatic', 'tapestry', '.', '🍃', 'The', 'verdant', 'expanse', ',', 'with', 'its', 'myriad', 'hues', ',', 'is', 'a', 'sanctuary', 'for', 'life', \"'s\", 'ceaseless', 'dance', '.', '🌿', 'Do', \"n't\", 'dismiss', 'the', 'seemingly', 'mundane', ';', 'within', 'each', 'blade', 'of', 'grass', 'and', 'fluttering', 'butterfly', ',', 'a', 'story', 'of', 'resilience', 'and', 'renewal', 'is', 'etched', '.', 'The', 'rhythmic', 'hum', 'of', 'insects', 'orchestrates', 'a', 'celestial', 'melody', ',', 'punctuating', 'the', 'air', 'with', 'the', 'essence', 'of', 'existence', '.', '🦋', 'Nature', ',', 'do', \"n't\", 'you', 'see', ',', 'is', 'a', 'sublime', 'masterpiece', ',', 'where', 'even', 'the', 'smallest', 'creatures', 'play', 'a', 'vital', 'role', 'in', 'the', 'grand', 'narrative', '.', 'Take', 'a', 'moment', 'to', 'marvel', 'at', 'the', 'intricate', 'patterns', 'woven', 'by', 'the', 'spider', \"'s\", 'silk', ',', 'a', 'testament', 'to', 'craftsmanship', 'unparalleled', '.', '🕷️', 'Let', \"'s\", 'not', 'overlook', 'the', 'beauty', 'that', 'lies', 'in', 'every', 'raindrop', 'and', 'the', 'ephemeral', 'brilliance', 'of', 'a', 'fleeting', 'sunset', ';', 'these', 'fleeting', 'moments', 'are', 'nature', \"'s\", 'poetry', ',', 'inscribed', 'in', 'the', 'language', 'of', 'the', 'universe', '.', '🌅']\n"
          ]
        }
      ]
    },
    {
      "cell_type": "code",
      "source": [
        "# B) Tokenize the paragraph into sentences\n",
        "\n",
        "from nltk.tokenize import sent_tokenize\n",
        "sentence_tokens = sent_tokenize(nature_paragraph)\n",
        "\n",
        "# Display the sentence tokens\n",
        "print(sentence_tokens)\n"
      ],
      "metadata": {
        "colab": {
          "base_uri": "https://localhost:8080/"
        },
        "id": "EO_7RtivS6hg",
        "outputId": "0aa231bc-a4d5-42f0-9630-e258542fa2b2"
      },
      "execution_count": 3,
      "outputs": [
        {
          "output_type": "stream",
          "name": "stdout",
          "text": [
            "['Amidst the symphony of rustling leaves and the gentle whispers of the wind, nature unfolds its enigmatic tapestry.', \"🍃 The verdant expanse, with its myriad hues, is a sanctuary for life's ceaseless dance.\", \"🌿 Don't dismiss the seemingly mundane; within each blade of grass and fluttering butterfly, a story of resilience and renewal is etched.\", 'The rhythmic hum of insects orchestrates a celestial melody, punctuating the air with the essence of existence.', \"🦋 Nature, don't you see, is a sublime masterpiece, where even the smallest creatures play a vital role in the grand narrative.\", \"Take a moment to marvel at the intricate patterns woven by the spider's silk, a testament to craftsmanship unparalleled.\", \"🕷️ Let's not overlook the beauty that lies in every raindrop and the ephemeral brilliance of a fleeting sunset; these fleeting moments are nature's poetry, inscribed in the language of the universe.\", '🌅']\n"
          ]
        }
      ]
    },
    {
      "cell_type": "code",
      "source": [
        "#c) Create a punctuation-based tokenizer\n",
        "from nltk.tokenize import WordPunctTokenizer\n",
        "punct_tokenizer = WordPunctTokenizer()\n",
        "\n",
        "# Tokenize the paragraph using the punctuation-based tokenizer\n",
        "punct_tokens = punct_tokenizer.tokenize(nature_paragraph)\n",
        "\n",
        "# Display the punctuation-based tokens\n",
        "print(punct_tokens)\n"
      ],
      "metadata": {
        "colab": {
          "base_uri": "https://localhost:8080/"
        },
        "id": "iilFpyP9S67k",
        "outputId": "cb9b5242-aa81-44f8-f0c0-de6a3b1e2ca7"
      },
      "execution_count": 4,
      "outputs": [
        {
          "output_type": "stream",
          "name": "stdout",
          "text": [
            "['Amidst', 'the', 'symphony', 'of', 'rustling', 'leaves', 'and', 'the', 'gentle', 'whispers', 'of', 'the', 'wind', ',', 'nature', 'unfolds', 'its', 'enigmatic', 'tapestry', '.', '🍃', 'The', 'verdant', 'expanse', ',', 'with', 'its', 'myriad', 'hues', ',', 'is', 'a', 'sanctuary', 'for', 'life', \"'\", 's', 'ceaseless', 'dance', '.', '🌿', 'Don', \"'\", 't', 'dismiss', 'the', 'seemingly', 'mundane', ';', 'within', 'each', 'blade', 'of', 'grass', 'and', 'fluttering', 'butterfly', ',', 'a', 'story', 'of', 'resilience', 'and', 'renewal', 'is', 'etched', '.', 'The', 'rhythmic', 'hum', 'of', 'insects', 'orchestrates', 'a', 'celestial', 'melody', ',', 'punctuating', 'the', 'air', 'with', 'the', 'essence', 'of', 'existence', '.', '🦋', 'Nature', ',', 'don', \"'\", 't', 'you', 'see', ',', 'is', 'a', 'sublime', 'masterpiece', ',', 'where', 'even', 'the', 'smallest', 'creatures', 'play', 'a', 'vital', 'role', 'in', 'the', 'grand', 'narrative', '.', 'Take', 'a', 'moment', 'to', 'marvel', 'at', 'the', 'intricate', 'patterns', 'woven', 'by', 'the', 'spider', \"'\", 's', 'silk', ',', 'a', 'testament', 'to', 'craftsmanship', 'unparalleled', '.', '🕷️', 'Let', \"'\", 's', 'not', 'overlook', 'the', 'beauty', 'that', 'lies', 'in', 'every', 'raindrop', 'and', 'the', 'ephemeral', 'brilliance', 'of', 'a', 'fleeting', 'sunset', ';', 'these', 'fleeting', 'moments', 'are', 'nature', \"'\", 's', 'poetry', ',', 'inscribed', 'in', 'the', 'language', 'of', 'the', 'universe', '.', '🌅']\n"
          ]
        }
      ]
    },
    {
      "cell_type": "code",
      "source": [
        "#  D) Create a Treebank Word tokenizer\n",
        "from nltk.tokenize import TreebankWordTokenizer\n",
        "\n",
        "\n",
        "treebank_tokenizer = TreebankWordTokenizer()\n",
        "\n",
        "# Tokenize the paragraph using the Treebank Word tokenizer\n",
        "treebank_tokens = treebank_tokenizer.tokenize(nature_paragraph)\n",
        "\n",
        "# Display the Treebank Word tokens\n",
        "print(treebank_tokens)\n"
      ],
      "metadata": {
        "colab": {
          "base_uri": "https://localhost:8080/"
        },
        "id": "DzdfiOLKS69m",
        "outputId": "c05fbe58-0270-4c12-d33f-dd44cbe65f91"
      },
      "execution_count": 5,
      "outputs": [
        {
          "output_type": "stream",
          "name": "stdout",
          "text": [
            "['Amidst', 'the', 'symphony', 'of', 'rustling', 'leaves', 'and', 'the', 'gentle', 'whispers', 'of', 'the', 'wind', ',', 'nature', 'unfolds', 'its', 'enigmatic', 'tapestry.', '🍃', 'The', 'verdant', 'expanse', ',', 'with', 'its', 'myriad', 'hues', ',', 'is', 'a', 'sanctuary', 'for', 'life', \"'s\", 'ceaseless', 'dance.', '🌿', 'Do', \"n't\", 'dismiss', 'the', 'seemingly', 'mundane', ';', 'within', 'each', 'blade', 'of', 'grass', 'and', 'fluttering', 'butterfly', ',', 'a', 'story', 'of', 'resilience', 'and', 'renewal', 'is', 'etched.', 'The', 'rhythmic', 'hum', 'of', 'insects', 'orchestrates', 'a', 'celestial', 'melody', ',', 'punctuating', 'the', 'air', 'with', 'the', 'essence', 'of', 'existence.', '🦋', 'Nature', ',', 'do', \"n't\", 'you', 'see', ',', 'is', 'a', 'sublime', 'masterpiece', ',', 'where', 'even', 'the', 'smallest', 'creatures', 'play', 'a', 'vital', 'role', 'in', 'the', 'grand', 'narrative.', 'Take', 'a', 'moment', 'to', 'marvel', 'at', 'the', 'intricate', 'patterns', 'woven', 'by', 'the', 'spider', \"'s\", 'silk', ',', 'a', 'testament', 'to', 'craftsmanship', 'unparalleled.', '🕷️', 'Let', \"'s\", 'not', 'overlook', 'the', 'beauty', 'that', 'lies', 'in', 'every', 'raindrop', 'and', 'the', 'ephemeral', 'brilliance', 'of', 'a', 'fleeting', 'sunset', ';', 'these', 'fleeting', 'moments', 'are', 'nature', \"'s\", 'poetry', ',', 'inscribed', 'in', 'the', 'language', 'of', 'the', 'universe.', '🌅']\n"
          ]
        }
      ]
    },
    {
      "cell_type": "code",
      "source": [
        "# e) Create a Tweet tokenizer\n",
        "\n",
        "from nltk.tokenize import TweetTokenizer\n",
        "\n",
        "tweet_tokenizer = TweetTokenizer()\n",
        "\n",
        "# Tokenize the paragraph using the Tweet tokenizer\n",
        "tweet_tokens = tweet_tokenizer.tokenize(nature_paragraph)\n",
        "\n",
        "# Display the Tweet tokens\n",
        "print(tweet_tokens)\n"
      ],
      "metadata": {
        "colab": {
          "base_uri": "https://localhost:8080/"
        },
        "id": "DDncp8NHS7BT",
        "outputId": "fc357d4c-74bd-442c-c42a-0710bff75c94"
      },
      "execution_count": 6,
      "outputs": [
        {
          "output_type": "stream",
          "name": "stdout",
          "text": [
            "['Amidst', 'the', 'symphony', 'of', 'rustling', 'leaves', 'and', 'the', 'gentle', 'whispers', 'of', 'the', 'wind', ',', 'nature', 'unfolds', 'its', 'enigmatic', 'tapestry', '.', '🍃', 'The', 'verdant', 'expanse', ',', 'with', 'its', 'myriad', 'hues', ',', 'is', 'a', 'sanctuary', 'for', \"life's\", 'ceaseless', 'dance', '.', '🌿', \"Don't\", 'dismiss', 'the', 'seemingly', 'mundane', ';', 'within', 'each', 'blade', 'of', 'grass', 'and', 'fluttering', 'butterfly', ',', 'a', 'story', 'of', 'resilience', 'and', 'renewal', 'is', 'etched', '.', 'The', 'rhythmic', 'hum', 'of', 'insects', 'orchestrates', 'a', 'celestial', 'melody', ',', 'punctuating', 'the', 'air', 'with', 'the', 'essence', 'of', 'existence', '.', '🦋', 'Nature', ',', \"don't\", 'you', 'see', ',', 'is', 'a', 'sublime', 'masterpiece', ',', 'where', 'even', 'the', 'smallest', 'creatures', 'play', 'a', 'vital', 'role', 'in', 'the', 'grand', 'narrative', '.', 'Take', 'a', 'moment', 'to', 'marvel', 'at', 'the', 'intricate', 'patterns', 'woven', 'by', 'the', \"spider's\", 'silk', ',', 'a', 'testament', 'to', 'craftsmanship', 'unparalleled', '.', '🕷', '️', \"Let's\", 'not', 'overlook', 'the', 'beauty', 'that', 'lies', 'in', 'every', 'raindrop', 'and', 'the', 'ephemeral', 'brilliance', 'of', 'a', 'fleeting', 'sunset', ';', 'these', 'fleeting', 'moments', 'are', \"nature's\", 'poetry', ',', 'inscribed', 'in', 'the', 'language', 'of', 'the', 'universe', '.', '🌅']\n"
          ]
        }
      ]
    },
    {
      "cell_type": "code",
      "source": [
        "# F) Create a Multi-Word Expression tokenizer\n",
        "from nltk.tokenize import MWETokenizer\n",
        "mwe_tokenizer = MWETokenizer()\n",
        "\n",
        "# Add multi-word expressions to the tokenizer\n",
        "mwe_tokenizer.add_mwe(('enigmatic', 'tapestry'))\n",
        "\n",
        "# Tokenize the paragraph using the Multi-Word Expression tokenizer\n",
        "mwe_tokens = mwe_tokenizer.tokenize(nature_paragraph.split())\n",
        "\n",
        "# Display the Multi-Word Expression tokens\n",
        "print(mwe_tokens)"
      ],
      "metadata": {
        "colab": {
          "base_uri": "https://localhost:8080/"
        },
        "id": "rSN_0jCLTsnU",
        "outputId": "88ab5c97-ff73-4df1-d981-715dfbf812d8"
      },
      "execution_count": 7,
      "outputs": [
        {
          "output_type": "stream",
          "name": "stdout",
          "text": [
            "['Amidst', 'the', 'symphony', 'of', 'rustling', 'leaves', 'and', 'the', 'gentle', 'whispers', 'of', 'the', 'wind,', 'nature', 'unfolds', 'its', 'enigmatic', 'tapestry.', '🍃', 'The', 'verdant', 'expanse,', 'with', 'its', 'myriad', 'hues,', 'is', 'a', 'sanctuary', 'for', \"life's\", 'ceaseless', 'dance.', '🌿', \"Don't\", 'dismiss', 'the', 'seemingly', 'mundane;', 'within', 'each', 'blade', 'of', 'grass', 'and', 'fluttering', 'butterfly,', 'a', 'story', 'of', 'resilience', 'and', 'renewal', 'is', 'etched.', 'The', 'rhythmic', 'hum', 'of', 'insects', 'orchestrates', 'a', 'celestial', 'melody,', 'punctuating', 'the', 'air', 'with', 'the', 'essence', 'of', 'existence.', '🦋', 'Nature,', \"don't\", 'you', 'see,', 'is', 'a', 'sublime', 'masterpiece,', 'where', 'even', 'the', 'smallest', 'creatures', 'play', 'a', 'vital', 'role', 'in', 'the', 'grand', 'narrative.', 'Take', 'a', 'moment', 'to', 'marvel', 'at', 'the', 'intricate', 'patterns', 'woven', 'by', 'the', \"spider's\", 'silk,', 'a', 'testament', 'to', 'craftsmanship', 'unparalleled.', '🕷️', \"Let's\", 'not', 'overlook', 'the', 'beauty', 'that', 'lies', 'in', 'every', 'raindrop', 'and', 'the', 'ephemeral', 'brilliance', 'of', 'a', 'fleeting', 'sunset;', 'these', 'fleeting', 'moments', 'are', \"nature's\", 'poetry,', 'inscribed', 'in', 'the', 'language', 'of', 'the', 'universe.', '🌅']\n"
          ]
        }
      ]
    },
    {
      "cell_type": "code",
      "source": [
        "# g) TextBlob Word Tokenize\n",
        "from textblob import TextBlob\n",
        "\n",
        "# Create a TextBlob object\n",
        "blob = TextBlob(nature_paragraph)\n",
        "\n",
        "# Tokenize the paragraph using TextBlob's word_tokenize\n",
        "textblob_tokens = blob.words\n",
        "\n",
        "# Display the TextBlob tokens\n",
        "print(textblob_tokens)\n"
      ],
      "metadata": {
        "colab": {
          "base_uri": "https://localhost:8080/"
        },
        "id": "nL0G7yFjTsqw",
        "outputId": "d94fcac8-585b-457e-ed3d-a34884cd46ed"
      },
      "execution_count": 8,
      "outputs": [
        {
          "output_type": "stream",
          "name": "stdout",
          "text": [
            "['Amidst', 'the', 'symphony', 'of', 'rustling', 'leaves', 'and', 'the', 'gentle', 'whispers', 'of', 'the', 'wind', 'nature', 'unfolds', 'its', 'enigmatic', 'tapestry', '🍃', 'The', 'verdant', 'expanse', 'with', 'its', 'myriad', 'hues', 'is', 'a', 'sanctuary', 'for', 'life', \"'s\", 'ceaseless', 'dance', '🌿', 'Do', \"n't\", 'dismiss', 'the', 'seemingly', 'mundane', 'within', 'each', 'blade', 'of', 'grass', 'and', 'fluttering', 'butterfly', 'a', 'story', 'of', 'resilience', 'and', 'renewal', 'is', 'etched', 'The', 'rhythmic', 'hum', 'of', 'insects', 'orchestrates', 'a', 'celestial', 'melody', 'punctuating', 'the', 'air', 'with', 'the', 'essence', 'of', 'existence', '🦋', 'Nature', 'do', \"n't\", 'you', 'see', 'is', 'a', 'sublime', 'masterpiece', 'where', 'even', 'the', 'smallest', 'creatures', 'play', 'a', 'vital', 'role', 'in', 'the', 'grand', 'narrative', 'Take', 'a', 'moment', 'to', 'marvel', 'at', 'the', 'intricate', 'patterns', 'woven', 'by', 'the', 'spider', \"'s\", 'silk', 'a', 'testament', 'to', 'craftsmanship', 'unparalleled', '🕷️', 'Let', \"'s\", 'not', 'overlook', 'the', 'beauty', 'that', 'lies', 'in', 'every', 'raindrop', 'and', 'the', 'ephemeral', 'brilliance', 'of', 'a', 'fleeting', 'sunset', 'these', 'fleeting', 'moments', 'are', 'nature', \"'s\", 'poetry', 'inscribed', 'in', 'the', 'language', 'of', 'the', 'universe', '🌅']\n"
          ]
        }
      ]
    },
    {
      "cell_type": "code",
      "source": [
        "# h) spaCy Tokenizer\n",
        "\n",
        "import spacy\n",
        "\n",
        "# Load the English language model\n",
        "nlp = spacy.load(\"en_core_web_sm\")\n",
        "\n",
        "# Tokenize the paragraph using spaCy's tokenizer\n",
        "spacy_tokens = [token.text for token in nlp(nature_paragraph)]\n",
        "\n",
        "# Display the spaCy tokens\n",
        "print(spacy_tokens)\n"
      ],
      "metadata": {
        "colab": {
          "base_uri": "https://localhost:8080/"
        },
        "id": "3a8AvqHAUYRe",
        "outputId": "bf2e24a8-9943-44a6-b553-cf41dc075a93"
      },
      "execution_count": 9,
      "outputs": [
        {
          "output_type": "stream",
          "name": "stdout",
          "text": [
            "['Amidst', 'the', 'symphony', 'of', 'rustling', 'leaves', 'and', 'the', 'gentle', 'whispers', 'of', 'the', 'wind', ',', 'nature', 'unfolds', 'its', 'enigmatic', 'tapestry', '.', '🍃', 'The', 'verdant', 'expanse', ',', 'with', 'its', 'myriad', 'hues', ',', 'is', 'a', 'sanctuary', 'for', 'life', \"'s\", 'ceaseless', 'dance', '.', '🌿', 'Do', \"n't\", 'dismiss', 'the', 'seemingly', 'mundane', ';', 'within', 'each', 'blade', 'of', 'grass', 'and', 'fluttering', 'butterfly', ',', 'a', 'story', 'of', 'resilience', 'and', 'renewal', 'is', 'etched', '.', 'The', 'rhythmic', 'hum', 'of', 'insects', 'orchestrates', 'a', 'celestial', 'melody', ',', 'punctuating', 'the', 'air', 'with', 'the', 'essence', 'of', 'existence', '.', '🦋', 'Nature', ',', 'do', \"n't\", 'you', 'see', ',', 'is', 'a', 'sublime', 'masterpiece', ',', 'where', 'even', 'the', 'smallest', 'creatures', 'play', 'a', 'vital', 'role', 'in', 'the', 'grand', 'narrative', '.', 'Take', 'a', 'moment', 'to', 'marvel', 'at', 'the', 'intricate', 'patterns', 'woven', 'by', 'the', 'spider', \"'s\", 'silk', ',', 'a', 'testament', 'to', 'craftsmanship', 'unparalleled', '.', '🕷', '️', 'Let', \"'s\", 'not', 'overlook', 'the', 'beauty', 'that', 'lies', 'in', 'every', 'raindrop', 'and', 'the', 'ephemeral', 'brilliance', 'of', 'a', 'fleeting', 'sunset', ';', 'these', 'fleeting', 'moments', 'are', 'nature', \"'s\", 'poetry', ',', 'inscribed', 'in', 'the', 'language', 'of', 'the', 'universe', '.', '🌅']\n"
          ]
        }
      ]
    },
    {
      "cell_type": "code",
      "source": [
        "# i) Gensim word tokenizer\n",
        "from gensim.utils import tokenize\n",
        "\n",
        "# Tokenize the paragraph using Gensim's word_tokenize\n",
        "gensim_tokens = list(tokenize(nature_paragraph, lower=True))\n",
        "\n",
        "# Display the Gensim tokens\n",
        "print(gensim_tokens)\n"
      ],
      "metadata": {
        "colab": {
          "base_uri": "https://localhost:8080/"
        },
        "id": "fLX5Vh80UYUU",
        "outputId": "a766fe84-46b5-4b0c-ecdf-d8f490f553e0"
      },
      "execution_count": 10,
      "outputs": [
        {
          "output_type": "stream",
          "name": "stdout",
          "text": [
            "['amidst', 'the', 'symphony', 'of', 'rustling', 'leaves', 'and', 'the', 'gentle', 'whispers', 'of', 'the', 'wind', 'nature', 'unfolds', 'its', 'enigmatic', 'tapestry', 'the', 'verdant', 'expanse', 'with', 'its', 'myriad', 'hues', 'is', 'a', 'sanctuary', 'for', 'life', 's', 'ceaseless', 'dance', 'don', 't', 'dismiss', 'the', 'seemingly', 'mundane', 'within', 'each', 'blade', 'of', 'grass', 'and', 'fluttering', 'butterfly', 'a', 'story', 'of', 'resilience', 'and', 'renewal', 'is', 'etched', 'the', 'rhythmic', 'hum', 'of', 'insects', 'orchestrates', 'a', 'celestial', 'melody', 'punctuating', 'the', 'air', 'with', 'the', 'essence', 'of', 'existence', 'nature', 'don', 't', 'you', 'see', 'is', 'a', 'sublime', 'masterpiece', 'where', 'even', 'the', 'smallest', 'creatures', 'play', 'a', 'vital', 'role', 'in', 'the', 'grand', 'narrative', 'take', 'a', 'moment', 'to', 'marvel', 'at', 'the', 'intricate', 'patterns', 'woven', 'by', 'the', 'spider', 's', 'silk', 'a', 'testament', 'to', 'craftsmanship', 'unparalleled', 'let', 's', 'not', 'overlook', 'the', 'beauty', 'that', 'lies', 'in', 'every', 'raindrop', 'and', 'the', 'ephemeral', 'brilliance', 'of', 'a', 'fleeting', 'sunset', 'these', 'fleeting', 'moments', 'are', 'nature', 's', 'poetry', 'inscribed', 'in', 'the', 'language', 'of', 'the', 'universe']\n"
          ]
        }
      ]
    },
    {
      "cell_type": "code",
      "source": [
        "# j. Tokenization with Keras\n",
        "\n",
        "from keras.preprocessing.text import text_to_word_sequence\n",
        "\n",
        "# Tokenize the paragraph using Keras's text_to_word_sequence\n",
        "keras_tokens = text_to_word_sequence(nature_paragraph)\n",
        "\n",
        "# Display the Keras tokens\n",
        "print(keras_tokens)\n"
      ],
      "metadata": {
        "colab": {
          "base_uri": "https://localhost:8080/"
        },
        "id": "iJLTyul0UYXq",
        "outputId": "ac552e14-734b-46a9-a4c0-e0c1cdb33d86"
      },
      "execution_count": 11,
      "outputs": [
        {
          "output_type": "stream",
          "name": "stdout",
          "text": [
            "['amidst', 'the', 'symphony', 'of', 'rustling', 'leaves', 'and', 'the', 'gentle', 'whispers', 'of', 'the', 'wind', 'nature', 'unfolds', 'its', 'enigmatic', 'tapestry', '🍃', 'the', 'verdant', 'expanse', 'with', 'its', 'myriad', 'hues', 'is', 'a', 'sanctuary', 'for', \"life's\", 'ceaseless', 'dance', '🌿', \"don't\", 'dismiss', 'the', 'seemingly', 'mundane', 'within', 'each', 'blade', 'of', 'grass', 'and', 'fluttering', 'butterfly', 'a', 'story', 'of', 'resilience', 'and', 'renewal', 'is', 'etched', 'the', 'rhythmic', 'hum', 'of', 'insects', 'orchestrates', 'a', 'celestial', 'melody', 'punctuating', 'the', 'air', 'with', 'the', 'essence', 'of', 'existence', '🦋', 'nature', \"don't\", 'you', 'see', 'is', 'a', 'sublime', 'masterpiece', 'where', 'even', 'the', 'smallest', 'creatures', 'play', 'a', 'vital', 'role', 'in', 'the', 'grand', 'narrative', 'take', 'a', 'moment', 'to', 'marvel', 'at', 'the', 'intricate', 'patterns', 'woven', 'by', 'the', \"spider's\", 'silk', 'a', 'testament', 'to', 'craftsmanship', 'unparalleled', '🕷️', \"let's\", 'not', 'overlook', 'the', 'beauty', 'that', 'lies', 'in', 'every', 'raindrop', 'and', 'the', 'ephemeral', 'brilliance', 'of', 'a', 'fleeting', 'sunset', 'these', 'fleeting', 'moments', 'are', \"nature's\", 'poetry', 'inscribed', 'in', 'the', 'language', 'of', 'the', 'universe', '🌅']\n"
          ]
        }
      ]
    }
  ]
}