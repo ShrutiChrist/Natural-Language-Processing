{
  "nbformat": 4,
  "nbformat_minor": 0,
  "metadata": {
    "colab": {
      "provenance": [],
      "authorship_tag": "ABX9TyN6DBPArtI22iyUB3dL1cu7",
      "include_colab_link": true
    },
    "kernelspec": {
      "name": "python3",
      "display_name": "Python 3"
    },
    "language_info": {
      "name": "python"
    }
  },
  "cells": [
    {
      "cell_type": "markdown",
      "metadata": {
        "id": "view-in-github",
        "colab_type": "text"
      },
      "source": [
        "<a href=\"https://colab.research.google.com/github/ShrutiChrist/Natural-Language-Processing/blob/main/NLP_Lab3_2348545.ipynb\" target=\"_parent\"><img src=\"https://colab.research.google.com/assets/colab-badge.svg\" alt=\"Open In Colab\"/></a>"
      ]
    },
    {
      "cell_type": "code",
      "source": [
        "import nltk\n",
        "nltk.download('punkt')\n",
        "nltk.download('nltk_data')\n"
      ],
      "metadata": {
        "colab": {
          "base_uri": "https://localhost:8080/"
        },
        "id": "w49Nx3nVSLqU",
        "outputId": "9d9b1903-f391-4760-b950-c1aada8f02e8"
      },
      "execution_count": 2,
      "outputs": [
        {
          "output_type": "stream",
          "name": "stderr",
          "text": [
            "[nltk_data] Downloading package punkt to /root/nltk_data...\n",
            "[nltk_data]   Package punkt is already up-to-date!\n",
            "[nltk_data] Error loading nltk_data: Package 'nltk_data' not found in\n",
            "[nltk_data]     index\n"
          ]
        },
        {
          "output_type": "execute_result",
          "data": {
            "text/plain": [
              "False"
            ]
          },
          "metadata": {},
          "execution_count": 2
        }
      ]
    },
    {
      "cell_type": "code",
      "source": [
        "import nltk\n",
        "nltk.download('punkt')\n",
        "\n",
        "from nltk.tokenize import word_tokenize\n",
        "\n",
        "# Tokenize text in Hindi\n",
        "hindi_text = \"कृपया ध्यान दें। यह एक उदाहरण है।\"\n",
        "hindi_tokens = word_tokenize(hindi_text)\n",
        "print(\"Hindi Tokens:\", hindi_tokens)\n",
        "\n",
        "# Tokenize text in Spanish\n",
        "spanish_text = \"Por favor, presta atención. Esto es un ejemplo.\"\n",
        "spanish_tokens = word_tokenize(spanish_text, language='spanish')\n",
        "print(\"Spanish Tokens:\", spanish_tokens)\n"
      ],
      "metadata": {
        "colab": {
          "base_uri": "https://localhost:8080/"
        },
        "id": "mPQCJtKLSMaZ",
        "outputId": "e28448db-e46d-4aba-9db3-93cdcdbc844c"
      },
      "execution_count": 5,
      "outputs": [
        {
          "output_type": "stream",
          "name": "stdout",
          "text": [
            "Hindi Tokens: ['कृपया', 'ध्यान', 'दें।', 'यह', 'एक', 'उदाहरण', 'है।']\n",
            "Spanish Tokens: ['Por', 'favor', ',', 'presta', 'atención', '.', 'Esto', 'es', 'un', 'ejemplo', '.']\n"
          ]
        },
        {
          "output_type": "stream",
          "name": "stderr",
          "text": [
            "[nltk_data] Downloading package punkt to /root/nltk_data...\n",
            "[nltk_data]   Package punkt is already up-to-date!\n"
          ]
        }
      ]
    }
  ]
}